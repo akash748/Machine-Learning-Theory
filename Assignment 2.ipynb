{
 "cells": [
  {
   "cell_type": "markdown",
   "metadata": {},
   "source": [
    "Question 1: What is the concept of human learning? Please give two examples."
   ]
  },
  {
   "cell_type": "markdown",
   "metadata": {},
   "source": [
    "Learning is a key process in human behaviour. All living is learning. If we compare the simple, crude ways in which a child feels and behaves, with the complex modes of adult behaviour, his skills, habits, thought, sentiments and the like- we will know what difference learning has made to the individual.The individual is constantly interacting with and influenced by the environment"
   ]
  },
  {
   "cell_type": "markdown",
   "metadata": {},
   "source": [
    "Two examples would be :-\n",
    "\n",
    "a) It is only through our previous experience that we have learnt that touching something hot would be harmful for us and hence we avoid doing it.\n",
    "\n",
    "\n",
    "b) The way a person learns to ride a cycle after several hit and trials\n",
    "    "
   ]
  },
  {
   "cell_type": "markdown",
   "metadata": {},
   "source": [
    "Question 2:What different forms of human learning are there? Are there any machine learning equivalents?"
   ]
  },
  {
   "cell_type": "markdown",
   "metadata": {},
   "source": [
    "Supervised learning is similar to concept learning (Bruner & Austin, 1986), where a person is required to classify new objects into existing categories, by matching the features of the new objects to examples in the categories."
   ]
  },
  {
   "cell_type": "markdown",
   "metadata": {},
   "source": [
    "Artificial neural networks follow the neuronal principle of Hebbian learning, where the algorithm centres on inputs with similar properties, just like how neurons that activate simultaneously strengthen the synaptic link between each other"
   ]
  },
  {
   "cell_type": "markdown",
   "metadata": {},
   "source": [
    "Reinforcement learning is inspired by the reward system of operant conditioning (Sutton & Barto, 1998) . Operant conditioning was established by B. F. Skinner (1938) , after Edward Thorndike (1927) observed how cats learn to escape a puzzle box more quickly after a repeated number of trials . Thorndike noted that behaviours that helped the cats to escape were repeated more frequently over time compared to behaviours that did not, and he termed this the law of effect."
   ]
  },
  {
   "cell_type": "markdown",
   "metadata": {},
   "source": [
    "Question 3:What is machine learning, and how does it work? What are the key responsibilities of machine\n",
    "learning?"
   ]
  },
  {
   "cell_type": "markdown",
   "metadata": {},
   "source": [
    "Machine learning is a form of artificial intelligence (AI) that teaches computers to think in a similar way to how humans do: Learning and improving upon past experiences. It works by exploring data and identifying patterns, and involves minimal human intervention. It uses two techniques namely supervised machine learning and unsupervised machine learning."
   ]
  },
  {
   "cell_type": "markdown",
   "metadata": {},
   "source": [
    "Machine learning is important because it gives enterprises a view of trends in customer behavior and business operational patterns, as well as supports the development of new products. Many of today's leading companies, such as Facebook, Google and Uber, make machine learning a central part of their operations. Machine learning has become a significant competitive differentiator for many companies"
   ]
  },
  {
   "cell_type": "markdown",
   "metadata": {},
   "source": [
    "Question 4:Define the terms &quot;penalty&quot; and &quot;reward&quot; in the context of reinforcement learning."
   ]
  },
  {
   "cell_type": "markdown",
   "metadata": {},
   "source": [
    "In reinforcement learning, we train ML models by using rewards and punishments. Whenever our machine takes a correct decision we reward a point and in wrong decisions negative point. From these responses, our model learns how to react in that particular situation"
   ]
  },
  {
   "cell_type": "markdown",
   "metadata": {},
   "source": [
    "Question 5:Explain the term &quot;learning as a search&quot;?"
   ]
  },
  {
   "cell_type": "markdown",
   "metadata": {},
   "source": [
    "Concept Learning: Acquiring the definition of a general category from\n",
    "given sample positive and negative training examples of the category.\n",
    "• Concept Learning can seen as a problem of searching through a\n",
    "predefined space of potential hypotheses for the hypothesis that\n",
    "best fits the training examples.\n",
    "• The hypothesis space has a general-to-specific ordering of hypotheses,\n",
    "and the search can be efficiently organized by taking advantage of a\n",
    "naturally occurring structure over the hypothesis space."
   ]
  },
  {
   "cell_type": "markdown",
   "metadata": {},
   "source": [
    "Question 6:What are the various goals of machine learning? What is the relationship between these and\n",
    "human learning?"
   ]
  },
  {
   "cell_type": "markdown",
   "metadata": {},
   "source": [
    "The nearly limitless quantity of available data, affordable data storage, and the growth of less expensive and more powerful processing has propelled the growth of machine learning. Now many industries are developing more robust machine learning models capable of analyzing bigger and more complex data while delivering faster, more accurate results on vast scales. Machine learning tools enable organizations to more quickly identify profitable opportunities and potential risks.\n",
    "\n",
    "The practical applications of machine learning drive business results which can dramatically affect a company’s bottom line. New techniques in the field are evolving rapidly and expanded the application of machine learning to nearly limitless possibilities. Industries that depend on vast quantities of data—and need a system to analyze it efficiently and accurately, have embraced machine learning as the best way to build models, strategize, and plan"
   ]
  },
  {
   "cell_type": "markdown",
   "metadata": {},
   "source": [
    "A formal definition of machine learning proposed by computer scientist Tom M. Mitchell states that a machine learns whenever it is able to utilize an experience such that its performance improves on similar experiences in the future. Although this definition is intuitive, it completely ignores the process of exactly how experience can be translated into future action—and of course, learning is always easier said than done!\n",
    "\n",
    "While human brains are naturally capable of learning from birth, the conditions necessary for computers to learn must be made explicit. For this reason, although it is not strictly necessary to understand the theoretical basis of learning, this foundation helps to understand, distinguish, and implement machine learning algorithms."
   ]
  },
  {
   "cell_type": "markdown",
   "metadata": {},
   "source": [
    "Question 7:Illustrate the various elements of machine learning using a real-life illustration."
   ]
  },
  {
   "cell_type": "markdown",
   "metadata": {},
   "source": [
    "Every machine learning algorithm has three components:\n",
    "\n",
    "Representation: how to represent knowledge. Examples include decision trees, sets of rules, instances, graphical models, neural networks, support vector machines, model ensembles and others.\n",
    "Evaluation: the way to evaluate candidate programs (hypotheses). Examples include accuracy, prediction and recall, squared error, likelihood, posterior probability, cost, margin, entropy k-L divergence and others.\n",
    "Optimization: the way candidate programs are generated known as the search process. For example combinatorial optimization, convex optimization, constrained optimization.\n",
    "All machine learning algorithms are combinations of these three components. A framework for understanding all algorithms"
   ]
  },
  {
   "cell_type": "markdown",
   "metadata": {},
   "source": [
    "Question 8:Provide an example of the abstraction method."
   ]
  },
  {
   "cell_type": "markdown",
   "metadata": {},
   "source": [
    "Real life example of Abstraction is ATM Machine; All are performing operations on the ATM machine like cash withdrawal, money transfer, retrieve mini-statement…etc. but we can't know internal details about ATM"
   ]
  },
  {
   "cell_type": "markdown",
   "metadata": {},
   "source": [
    "Question 9:What is the concept of generalization? What function does it play in the machine learning\n",
    "process?"
   ]
  },
  {
   "cell_type": "markdown",
   "metadata": {},
   "source": [
    "Generalization refers to your model's ability to adapt properly to new, previously unseen data, drawn from the same distribution as the one used to create the model."
   ]
  },
  {
   "cell_type": "markdown",
   "metadata": {},
   "source": [
    "Question 10:What is classification, exactly? What are the main distinctions between classification and regression?"
   ]
  },
  {
   "cell_type": "markdown",
   "metadata": {},
   "source": [
    "In machine learning, classification refers to a predictive modeling problem where a class label is predicted for a given example of input data.\n",
    "\n",
    "Examples of classification problems include:\n",
    "\n",
    "Given an example, classify if it is spam or not.\n",
    "Given a handwritten character, classify it as one of the known characters.\n",
    "Given recent user behavior, classify as churn or not.\n",
    "From a modeling perspective, classification requires a training dataset with many examples of inputs and outputs from which to learn.\n",
    "\n",
    "A model will use the training dataset and will calculate how to best map examples of input data to specific class labels. As such, the training dataset must be sufficiently representative of the problem and have many examples of each class label.\n",
    "\n",
    "Class labels are often string values, e.g. “spam,” “not spam,” and must be mapped to numeric values before being provided to an algorithm for modeling. This is often referred to as label encoding, where a unique integer is assigned to each class label, e.g. “spam” = 0, “no spam” = 1."
   ]
  },
  {
   "cell_type": "markdown",
   "metadata": {},
   "source": [
    "Regression predictive modeling is the task of approximating a mapping function (f) from input variables (X) to a continuous output variable (y).\n",
    "\n",
    "A continuous output variable is a real-value, such as an integer or floating point value. These are often quantities, such as amounts and sizes.\n",
    "\n",
    "For example, a house may be predicted to sell for a specific dollar value, perhaps in the range of $100,000 to $200,000.\n",
    "\n",
    "A regression problem requires the prediction of a quantity.\n",
    "A regression can have real valued or discrete input variables.\n",
    "A problem with multiple input variables is often called a multivariate regression problem.\n",
    "A regression problem where input variables are ordered by time is called a time series forecasting problem.\n",
    "Because a regression predictive model predicts a quantity, the skill of the model must be reported as an error in those predictions."
   ]
  },
  {
   "cell_type": "markdown",
   "metadata": {},
   "source": [
    "Question 11:What is regression, and how does it work? Give an example of a real-world problem that was\n",
    "solved using regression."
   ]
  },
  {
   "cell_type": "markdown",
   "metadata": {},
   "source": [
    "Regression predictive modeling is the task of approximating a mapping function (f) from input variables (X) to a continuous output variable (y).\n",
    "\n",
    "A continuous output variable is a real-value, such as an integer or floating point value. These are often quantities, such as amounts and sizes.\n",
    "\n",
    "For example, a house may be predicted to sell for a specific dollar value, perhaps in the range of $100,000 to $200,000.\n",
    "\n",
    "A regression problem requires the prediction of a quantity.\n",
    "A regression can have real valued or discrete input variables.\n",
    "A problem with multiple input variables is often called a multivariate regression problem.\n",
    "A regression problem where input variables are ordered by time is called a time series forecasting problem.\n",
    "Because a regression predictive model predicts a quantity, the skill of the model must be reported as an error in those predictions.\n",
    "\n",
    "There are many ways to estimate the skill of a regression predictive model, but perhaps the most common is to calculate the root mean squared error, abbreviated by the acronym RMSE"
   ]
  },
  {
   "cell_type": "markdown",
   "metadata": {},
   "source": [
    "A real world problem that can be solved using regression is predicting the price of second hand car based on number of years and car make."
   ]
  },
  {
   "cell_type": "markdown",
   "metadata": {},
   "source": [
    "Question 12:Describe the clustering mechanism in detail."
   ]
  },
  {
   "cell_type": "markdown",
   "metadata": {},
   "source": [
    "Clustering or cluster analysis is a machine learning technique, which groups the unlabelled dataset. It can be defined as \"A way of grouping the data points into different clusters, consisting of similar data points. The objects with the possible similarities remain in a group that has less or no similarities with another group.\"\n",
    "\n",
    "It does it by finding some similar patterns in the unlabelled dataset such as shape, size, color, behavior, etc., and divides them as per the presence and absence of those similar patterns.\n",
    "\n",
    "It is an unsupervised learning method, hence no supervision is provided to the algorithm, and it deals with the unlabeled dataset.\n",
    "\n",
    "After applying this clustering technique, each cluster or group is provided with a cluster-ID. ML system can use this id to simplify the processing of large and complex datasets"
   ]
  },
  {
   "cell_type": "markdown",
   "metadata": {},
   "source": [
    "Note: Clustering is somewhere similar to the classification algorithm, but the difference is the type of dataset that we are using. In classification, we work with the labeled data set, whereas in clustering, we work with the unlabelled dataset."
   ]
  },
  {
   "cell_type": "markdown",
   "metadata": {},
   "source": [
    "Question 13:Make brief observations on the following topics:"
   ]
  },
  {
   "cell_type": "markdown",
   "metadata": {},
   "source": [
    "i. Machine learning algorithms are used\n",
    "\n",
    "ii. Reinforcement learning is a form of learning based on positive reinforcement."
   ]
  },
  {
   "cell_type": "markdown",
   "metadata": {},
   "source": [
    "i. At its most basic, machine learning uses programmed algorithms that receive and analyse input data to predict output values within an acceptable range. As new data is fed to these algorithms, they learn and optimise their operations to improve performance, developing ‘intelligence’ over time.\n",
    "\n",
    "There are four types of machine learning algorithms: supervised, semi-supervised, unsupervised and reinforcement."
   ]
  },
  {
   "cell_type": "markdown",
   "metadata": {},
   "source": [
    "ii. In reinforcement learning, we train ML models by using rewards and punishments. Whenever our machine takes a correct decision we reward a point and in wrong decisions negative point. From these responses, our model learns how to react in that particular situation"
   ]
  },
  {
   "cell_type": "code",
   "execution_count": null,
   "metadata": {},
   "outputs": [],
   "source": []
  }
 ],
 "metadata": {
  "kernelspec": {
   "display_name": "Python 3",
   "language": "python",
   "name": "python3"
  },
  "language_info": {
   "codemirror_mode": {
    "name": "ipython",
    "version": 3
   },
   "file_extension": ".py",
   "mimetype": "text/x-python",
   "name": "python",
   "nbconvert_exporter": "python",
   "pygments_lexer": "ipython3",
   "version": "3.8.3"
  }
 },
 "nbformat": 4,
 "nbformat_minor": 4
}
